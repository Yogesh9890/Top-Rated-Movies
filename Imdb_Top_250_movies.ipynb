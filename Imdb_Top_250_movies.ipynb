{
 "cells": [
  {
   "cell_type": "code",
   "execution_count": 2,
   "id": "da542eae",
   "metadata": {},
   "outputs": [],
   "source": [
    "#import required libraries\n",
    "from bs4 import BeautifulSoup\n",
    "import requests"
   ]
  },
  {
   "cell_type": "code",
   "execution_count": 3,
   "id": "b8f5656e",
   "metadata": {},
   "outputs": [],
   "source": [
    "url = \"https://www.imdb.com/chart/top/?ref_=nv_mv_250\"\n",
    "r1 = requests.get(url)                    #getting url\n",
    "soup1 = BeautifulSoup(r1.content, \"lxml\")"
   ]
  },
  {
   "cell_type": "code",
   "execution_count": 4,
   "id": "d013d793",
   "metadata": {},
   "outputs": [
    {
     "name": "stdout",
     "output_type": "stream",
     "text": [
      "<class 'requests.models.Response'>\n",
      "<class 'bs4.BeautifulSoup'>\n"
     ]
    }
   ],
   "source": [
    "print(type(r1))\n",
    "print(type(soup1))"
   ]
  },
  {
   "cell_type": "code",
   "execution_count": 5,
   "id": "a91241db",
   "metadata": {},
   "outputs": [
    {
     "data": {
      "text/plain": [
       "<title>IMDb Top 250 - IMDb</title>"
      ]
     },
     "execution_count": 5,
     "metadata": {},
     "output_type": "execute_result"
    }
   ],
   "source": [
    "soup1.title"
   ]
  },
  {
   "cell_type": "code",
   "execution_count": 6,
   "id": "c65585c3",
   "metadata": {},
   "outputs": [
    {
     "name": "stdout",
     "output_type": "stream",
     "text": [
      "Top Rated Movies\n"
     ]
    }
   ],
   "source": [
    "for heading in soup1.find_all('h1'):\n",
    "    print(heading.text)"
   ]
  },
  {
   "cell_type": "code",
   "execution_count": 7,
   "id": "ac8ba64e",
   "metadata": {},
   "outputs": [
    {
     "name": "stdout",
     "output_type": "stream",
     "text": [
      "IMDb Charts\n",
      "You Have Seen\n",
      " IMDb Charts\n",
      " Top India Charts\n",
      "Top Rated Movies by Genre\n",
      "Recently Viewed\n"
     ]
    }
   ],
   "source": [
    "for heading in soup1.find_all('h3'):\n",
    "    print(heading.text)"
   ]
  },
  {
   "cell_type": "code",
   "execution_count": 8,
   "id": "ffb71b85",
   "metadata": {},
   "outputs": [
    {
     "data": {
      "text/plain": [
       "[]"
      ]
     },
     "execution_count": 8,
     "metadata": {},
     "output_type": "execute_result"
    }
   ],
   "source": [
    "soup1.find_all('h2')"
   ]
  },
  {
   "cell_type": "code",
   "execution_count": 9,
   "id": "efdedeed",
   "metadata": {},
   "outputs": [
    {
     "data": {
      "text/plain": [
       "'The Godfather'"
      ]
     },
     "execution_count": 9,
     "metadata": {},
     "output_type": "execute_result"
    }
   ],
   "source": [
    "a_soup = soup1.find(string = 'The Godfather')\n",
    "a_soup"
   ]
  },
  {
   "cell_type": "code",
   "execution_count": 10,
   "id": "b1faabef",
   "metadata": {},
   "outputs": [
    {
     "data": {
      "text/plain": [
       "[<a href=\"/title/tt0068646/\" title=\"Francis Ford Coppola (dir.), Marlon Brando, Al Pacino\">The Godfather</a>]"
      ]
     },
     "execution_count": 10,
     "metadata": {},
     "output_type": "execute_result"
    }
   ],
   "source": [
    "a_soup.find_parents('a')"
   ]
  },
  {
   "cell_type": "code",
   "execution_count": 11,
   "id": "09c1ec28",
   "metadata": {},
   "outputs": [
    {
     "data": {
      "text/plain": [
       "[<td class=\"titleColumn\">\n",
       "       2.\n",
       "       <a href=\"/title/tt0068646/\" title=\"Francis Ford Coppola (dir.), Marlon Brando, Al Pacino\">The Godfather</a>\n",
       " <span class=\"secondaryInfo\">(1972)</span>\n",
       " </td>]"
      ]
     },
     "execution_count": 11,
     "metadata": {},
     "output_type": "execute_result"
    }
   ],
   "source": [
    "a_soup.find_parents('td')"
   ]
  },
  {
   "cell_type": "code",
   "execution_count": 12,
   "id": "98e904a4",
   "metadata": {},
   "outputs": [],
   "source": [
    "text = soup1.get_text()\n",
    "#soup1.text"
   ]
  },
  {
   "cell_type": "code",
   "execution_count": 14,
   "id": "900fede7",
   "metadata": {},
   "outputs": [],
   "source": [
    "from lxml import etree              #librari required for xpath\n",
    "dom = etree.HTML(str(soup1))"
   ]
  },
  {
   "cell_type": "code",
   "execution_count": 16,
   "id": "4b94f994",
   "metadata": {},
   "outputs": [],
   "source": [
    "title=dom.xpath('//td[@class=\"titleColumn\"]//a')\n",
    "a = []\n",
    "for i in range(len(title)):\n",
    "    a.append(title[i].text)\n",
    "    \n",
    "#a"
   ]
  },
  {
   "cell_type": "code",
   "execution_count": 17,
   "id": "360b9d50",
   "metadata": {},
   "outputs": [],
   "source": [
    "title1=dom.xpath('//td[@class=\"titleColumn\"]//span')\n",
    "b = []\n",
    "for i in range(len(title1)):\n",
    "    b.append(title1[i].text)\n",
    "    \n",
    "#b"
   ]
  },
  {
   "cell_type": "code",
   "execution_count": 18,
   "id": "0548855c",
   "metadata": {},
   "outputs": [],
   "source": [
    "title2=dom.xpath('//*[@id=\"main\"]//td[@class=\"ratingColumn imdbRating\"]//strong')\n",
    "c = []\n",
    "for i in range(len(title2)):\n",
    "    c.append(title2[i].text)\n",
    "    \n",
    "#c "
   ]
  },
  {
   "cell_type": "code",
   "execution_count": 19,
   "id": "77cc6532",
   "metadata": {},
   "outputs": [
    {
     "data": {
      "text/html": [
       "<div>\n",
       "<style scoped>\n",
       "    .dataframe tbody tr th:only-of-type {\n",
       "        vertical-align: middle;\n",
       "    }\n",
       "\n",
       "    .dataframe tbody tr th {\n",
       "        vertical-align: top;\n",
       "    }\n",
       "\n",
       "    .dataframe thead th {\n",
       "        text-align: right;\n",
       "    }\n",
       "</style>\n",
       "<table border=\"1\" class=\"dataframe\">\n",
       "  <thead>\n",
       "    <tr style=\"text-align: right;\">\n",
       "      <th></th>\n",
       "      <th>Title</th>\n",
       "      <th>Released Year</th>\n",
       "      <th>Imdb Rating</th>\n",
       "    </tr>\n",
       "  </thead>\n",
       "  <tbody>\n",
       "    <tr>\n",
       "      <th>0</th>\n",
       "      <td>The Shawshank Redemption</td>\n",
       "      <td>(1994)</td>\n",
       "      <td>9.2</td>\n",
       "    </tr>\n",
       "    <tr>\n",
       "      <th>1</th>\n",
       "      <td>The Godfather</td>\n",
       "      <td>(1972)</td>\n",
       "      <td>9.1</td>\n",
       "    </tr>\n",
       "    <tr>\n",
       "      <th>2</th>\n",
       "      <td>The Godfather: Part II</td>\n",
       "      <td>(1974)</td>\n",
       "      <td>9.0</td>\n",
       "    </tr>\n",
       "    <tr>\n",
       "      <th>3</th>\n",
       "      <td>The Dark Knight</td>\n",
       "      <td>(2008)</td>\n",
       "      <td>9.0</td>\n",
       "    </tr>\n",
       "    <tr>\n",
       "      <th>4</th>\n",
       "      <td>12 Angry Men</td>\n",
       "      <td>(1957)</td>\n",
       "      <td>8.9</td>\n",
       "    </tr>\n",
       "    <tr>\n",
       "      <th>...</th>\n",
       "      <td>...</td>\n",
       "      <td>...</td>\n",
       "      <td>...</td>\n",
       "    </tr>\n",
       "    <tr>\n",
       "      <th>245</th>\n",
       "      <td>Hera Pheri</td>\n",
       "      <td>(2000)</td>\n",
       "      <td>8.0</td>\n",
       "    </tr>\n",
       "    <tr>\n",
       "      <th>246</th>\n",
       "      <td>The Princess Bride</td>\n",
       "      <td>(1987)</td>\n",
       "      <td>8.0</td>\n",
       "    </tr>\n",
       "    <tr>\n",
       "      <th>247</th>\n",
       "      <td>Sunrise: A Song of Two Humans</td>\n",
       "      <td>(1927)</td>\n",
       "      <td>8.0</td>\n",
       "    </tr>\n",
       "    <tr>\n",
       "      <th>248</th>\n",
       "      <td>Drishyam</td>\n",
       "      <td>(2013)</td>\n",
       "      <td>8.0</td>\n",
       "    </tr>\n",
       "    <tr>\n",
       "      <th>249</th>\n",
       "      <td>Miracle in Cell No. 7</td>\n",
       "      <td>(2019)</td>\n",
       "      <td>8.0</td>\n",
       "    </tr>\n",
       "  </tbody>\n",
       "</table>\n",
       "<p>250 rows × 3 columns</p>\n",
       "</div>"
      ],
      "text/plain": [
       "                             Title Released Year Imdb Rating\n",
       "0         The Shawshank Redemption        (1994)         9.2\n",
       "1                    The Godfather        (1972)         9.1\n",
       "2           The Godfather: Part II        (1974)         9.0\n",
       "3                  The Dark Knight        (2008)         9.0\n",
       "4                     12 Angry Men        (1957)         8.9\n",
       "..                             ...           ...         ...\n",
       "245                     Hera Pheri        (2000)         8.0\n",
       "246             The Princess Bride        (1987)         8.0\n",
       "247  Sunrise: A Song of Two Humans        (1927)         8.0\n",
       "248                       Drishyam        (2013)         8.0\n",
       "249          Miracle in Cell No. 7        (2019)         8.0\n",
       "\n",
       "[250 rows x 3 columns]"
      ]
     },
     "execution_count": 19,
     "metadata": {},
     "output_type": "execute_result"
    }
   ],
   "source": [
    "import pandas as pd     \n",
    "df = pd.DataFrame(\n",
    "    {\n",
    "    \"Title\": a,\n",
    "    \"Released Year\": b,\n",
    "    \"Imdb Rating\": c\n",
    "    })                         #Creating Dataframe\n",
    "df"
   ]
  },
  {
   "cell_type": "code",
   "execution_count": 28,
   "id": "06466008",
   "metadata": {},
   "outputs": [],
   "source": [
    "df.to_csv(\"Imdb of Top-250 movies.csv\", index=False)         # saving the dataframe"
   ]
  },
  {
   "cell_type": "code",
   "execution_count": 29,
   "id": "7c6d1621",
   "metadata": {},
   "outputs": [
    {
     "data": {
      "text/html": [
       "<div>\n",
       "<style scoped>\n",
       "    .dataframe tbody tr th:only-of-type {\n",
       "        vertical-align: middle;\n",
       "    }\n",
       "\n",
       "    .dataframe tbody tr th {\n",
       "        vertical-align: top;\n",
       "    }\n",
       "\n",
       "    .dataframe thead th {\n",
       "        text-align: right;\n",
       "    }\n",
       "</style>\n",
       "<table border=\"1\" class=\"dataframe\">\n",
       "  <thead>\n",
       "    <tr style=\"text-align: right;\">\n",
       "      <th></th>\n",
       "      <th>Title</th>\n",
       "      <th>Released Year</th>\n",
       "      <th>Imdb Rating</th>\n",
       "    </tr>\n",
       "  </thead>\n",
       "  <tbody>\n",
       "    <tr>\n",
       "      <th>0</th>\n",
       "      <td>The Shawshank Redemption</td>\n",
       "      <td>(1994)</td>\n",
       "      <td>9.2</td>\n",
       "    </tr>\n",
       "    <tr>\n",
       "      <th>1</th>\n",
       "      <td>The Godfather</td>\n",
       "      <td>(1972)</td>\n",
       "      <td>9.1</td>\n",
       "    </tr>\n",
       "    <tr>\n",
       "      <th>2</th>\n",
       "      <td>The Godfather: Part II</td>\n",
       "      <td>(1974)</td>\n",
       "      <td>9.0</td>\n",
       "    </tr>\n",
       "    <tr>\n",
       "      <th>3</th>\n",
       "      <td>The Dark Knight</td>\n",
       "      <td>(2008)</td>\n",
       "      <td>9.0</td>\n",
       "    </tr>\n",
       "    <tr>\n",
       "      <th>4</th>\n",
       "      <td>12 Angry Men</td>\n",
       "      <td>(1957)</td>\n",
       "      <td>8.9</td>\n",
       "    </tr>\n",
       "    <tr>\n",
       "      <th>...</th>\n",
       "      <td>...</td>\n",
       "      <td>...</td>\n",
       "      <td>...</td>\n",
       "    </tr>\n",
       "    <tr>\n",
       "      <th>245</th>\n",
       "      <td>Hera Pheri</td>\n",
       "      <td>(2000)</td>\n",
       "      <td>8.0</td>\n",
       "    </tr>\n",
       "    <tr>\n",
       "      <th>246</th>\n",
       "      <td>The Princess Bride</td>\n",
       "      <td>(1987)</td>\n",
       "      <td>8.0</td>\n",
       "    </tr>\n",
       "    <tr>\n",
       "      <th>247</th>\n",
       "      <td>Sunrise: A Song of Two Humans</td>\n",
       "      <td>(1927)</td>\n",
       "      <td>8.0</td>\n",
       "    </tr>\n",
       "    <tr>\n",
       "      <th>248</th>\n",
       "      <td>Drishyam</td>\n",
       "      <td>(2013)</td>\n",
       "      <td>8.0</td>\n",
       "    </tr>\n",
       "    <tr>\n",
       "      <th>249</th>\n",
       "      <td>Miracle in Cell No. 7</td>\n",
       "      <td>(2019)</td>\n",
       "      <td>8.0</td>\n",
       "    </tr>\n",
       "  </tbody>\n",
       "</table>\n",
       "<p>250 rows × 3 columns</p>\n",
       "</div>"
      ],
      "text/plain": [
       "                             Title Released Year  Imdb Rating\n",
       "0         The Shawshank Redemption        (1994)          9.2\n",
       "1                    The Godfather        (1972)          9.1\n",
       "2           The Godfather: Part II        (1974)          9.0\n",
       "3                  The Dark Knight        (2008)          9.0\n",
       "4                     12 Angry Men        (1957)          8.9\n",
       "..                             ...           ...          ...\n",
       "245                     Hera Pheri        (2000)          8.0\n",
       "246             The Princess Bride        (1987)          8.0\n",
       "247  Sunrise: A Song of Two Humans        (1927)          8.0\n",
       "248                       Drishyam        (2013)          8.0\n",
       "249          Miracle in Cell No. 7        (2019)          8.0\n",
       "\n",
       "[250 rows x 3 columns]"
      ]
     },
     "execution_count": 29,
     "metadata": {},
     "output_type": "execute_result"
    }
   ],
   "source": [
    "df1 = pd.read_csv(\"Imdb of Top-250 movies.csv\")\n",
    "df1"
   ]
  }
 ],
 "metadata": {
  "kernelspec": {
   "display_name": "Python 3",
   "language": "python",
   "name": "python3"
  },
  "language_info": {
   "codemirror_mode": {
    "name": "ipython",
    "version": 3
   },
   "file_extension": ".py",
   "mimetype": "text/x-python",
   "name": "python",
   "nbconvert_exporter": "python",
   "pygments_lexer": "ipython3",
   "version": "3.9.5"
  }
 },
 "nbformat": 4,
 "nbformat_minor": 5
}
